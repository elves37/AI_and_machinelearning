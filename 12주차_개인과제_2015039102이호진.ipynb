{
 "cells": [
  {
   "cell_type": "code",
   "execution_count": 12,
   "metadata": {},
   "outputs": [
    {
     "name": "stdout",
     "output_type": "stream",
     "text": [
      "py ver:  3.7.7 (default, May  6 2020, 11:45:54) [MSC v.1916 64 bit (AMD64)]\n",
      "tf ver:  2.1.0\n",
      "keras ver:  2.3.1\n"
     ]
    }
   ],
   "source": [
    "import warnings\n",
    "warnings.simplefilter(action='ignore', category=FutureWarning)\n",
    "import sys\n",
    "import tensorflow as tf\n",
    "import keras\n",
    "from keras.models import Sequential\n",
    "from keras.layers import Dense, Dropout, Flatten\n",
    "from keras.layers.convolutional import Conv2D, MaxPooling2D\n",
    "import numpy as np\n",
    "np.random.seed(7)\n",
    "print('py ver: ', sys.version)\n",
    "print('tf ver: ', tf.__version__)\n",
    "print('keras ver: ',keras.__version__)"
   ]
  },
  {
   "cell_type": "code",
   "execution_count": 6,
   "metadata": {},
   "outputs": [
    {
     "name": "stdout",
     "output_type": "stream",
     "text": [
      "Downloading data from https://s3.amazonaws.com/img-datasets/mnist.npz\n",
      "11493376/11490434 [==============================] - 3s 0us/step\n"
     ]
    },
    {
     "data": {
      "image/png": "[encoded data removed]",
      "text/plain": [
       "<Figure size 432x72 with 36 Axes>"
      ]
     },
     "metadata": {
      "needs_background": "light"
     },
     "output_type": "display_data"
    }
   ],
   "source": [
    "mnist = keras.datasets.mnist\n",
    "\n",
    "(X_train0, y_train0), (X_test0, y_test0) = mnist.load_data()\n",
    "\n",
    "import matplotlib.pylab as plt\n",
    "\n",
    "plt.figure(figsize=(6,1))\n",
    "for i in range(36):\n",
    "    plt.subplot(3,12,i+1)\n",
    "    plt.imshow(X_train0[i], cmap=\"gray\")\n",
    "    plt.axis(\"off\")\n",
    "plt.show()"
   ]
  },
  {
   "cell_type": "code",
   "execution_count": 7,
   "metadata": {},
   "outputs": [
    {
     "name": "stdout",
     "output_type": "stream",
     "text": [
      "x_train shape:  (60000, 28, 28, 1)\n",
      "60000 train samples\n",
      "10000 test samples\n"
     ]
    }
   ],
   "source": [
    "img_rows = 28\n",
    "img_cols = 28\n",
    "\n",
    "(x_train, y_train), (x_test, y_test) = mnist.load_data()\n",
    "\n",
    "input_shape = (img_rows, img_cols, 1)\n",
    "x_train=x_train.reshape(x_train.shape[0],img_rows,img_cols,1)\n",
    "x_test=x_test.reshape(x_test.shape[0],img_rows,img_cols,1)\n",
    "\n",
    "x_train=x_train.astype('float32')/255\n",
    "x_test=x_test.astype('float32')/255\n",
    "\n",
    "print('x_train shape: ', x_train.shape)\n",
    "print(x_train.shape[0],'train samples')\n",
    "print(x_test.shape[0],'test samples')\n",
    "\n",
    "batch_size =128\n",
    "num_classes = 10\n",
    "epochs = 12\n",
    "\n",
    "y_train=keras.utils.to_categorical(y_train,num_classes)\n",
    "y_test=keras.utils.to_categorical(y_test,num_classes)"
   ]
  },
  {
   "cell_type": "code",
   "execution_count": 13,
   "metadata": {},
   "outputs": [
    {
     "name": "stdout",
     "output_type": "stream",
     "text": [
      "Model: \"sequential_2\"\n",
      "_________________________________________________________________\n",
      "Layer (type)                 Output Shape              Param #   \n",
      "=================================================================\n",
      "conv2d_3 (Conv2D)            (None, 28, 28, 32)        832       \n",
      "_________________________________________________________________\n",
      "max_pooling2d_3 (MaxPooling2 (None, 14, 14, 32)        0         \n",
      "_________________________________________________________________\n",
      "conv2d_4 (Conv2D)            (None, 14, 14, 64)        8256      \n",
      "_________________________________________________________________\n",
      "max_pooling2d_4 (MaxPooling2 (None, 7, 7, 64)          0         \n",
      "_________________________________________________________________\n",
      "dropout_3 (Dropout)          (None, 7, 7, 64)          0         \n",
      "_________________________________________________________________\n",
      "flatten_2 (Flatten)          (None, 3136)              0         \n",
      "_________________________________________________________________\n",
      "dense_3 (Dense)              (None, 1000)              3137000   \n",
      "_________________________________________________________________\n",
      "dropout_4 (Dropout)          (None, 1000)              0         \n",
      "_________________________________________________________________\n",
      "dense_4 (Dense)              (None, 10)                10010     \n",
      "=================================================================\n",
      "Total params: 3,156,098\n",
      "Trainable params: 3,156,098\n",
      "Non-trainable params: 0\n",
      "_________________________________________________________________\n"
     ]
    }
   ],
   "source": [
    "model = Sequential()\n",
    "model.add(Conv2D(32, kernel_size=(5,5),strides=(1,1),padding='same',\n",
    "                 activation='relu',\n",
    "                 input_shape=input_shape))\n",
    "model.add(MaxPooling2D(pool_size=(2,2),strides=(2,2)))\n",
    "model.add(Conv2D(64,(2,2),padding='same',activation='relu'))\n",
    "model.add(MaxPooling2D(pool_size=(2,2)))\n",
    "model.add(Dropout(0.25))\n",
    "model.add(Flatten())\n",
    "model.add(Dense(1000,activation='relu'))\n",
    "model.add(Dropout(0.5))\n",
    "model.add(Dense(num_classes,activation='softmax'))\n",
    "model.summary()"
   ]
  },
  {
   "cell_type": "code",
   "execution_count": 15,
   "metadata": {},
   "outputs": [
    {
     "name": "stdout",
     "output_type": "stream",
     "text": [
      "Train on 60000 samples, validate on 10000 samples\n",
      "Epoch 1/12\n",
      "60000/60000 [==============================] - 163s 3ms/step - loss: 0.1807 - accuracy: 0.9450 - val_loss: 0.0493 - val_accuracy: 0.9835\n",
      "Epoch 2/12\n",
      "60000/60000 [==============================] - 172s 3ms/step - loss: 0.0602 - accuracy: 0.9814 - val_loss: 0.0373 - val_accuracy: 0.9877\n",
      "Epoch 3/12\n",
      "60000/60000 [==============================] - 170s 3ms/step - loss: 0.0457 - accuracy: 0.9859 - val_loss: 0.0248 - val_accuracy: 0.9920\n",
      "Epoch 4/12\n",
      "60000/60000 [==============================] - 170s 3ms/step - loss: 0.0356 - accuracy: 0.9886 - val_loss: 0.0241 - val_accuracy: 0.9908\n",
      "Epoch 5/12\n",
      "60000/60000 [==============================] - 180s 3ms/step - loss: 0.0311 - accuracy: 0.9901 - val_loss: 0.0209 - val_accuracy: 0.9924\n",
      "Epoch 6/12\n",
      "60000/60000 [==============================] - 173s 3ms/step - loss: 0.0262 - accuracy: 0.9916 - val_loss: 0.0196 - val_accuracy: 0.9931\n",
      "Epoch 7/12\n",
      "60000/60000 [==============================] - 171s 3ms/step - loss: 0.0238 - accuracy: 0.9923 - val_loss: 0.0205 - val_accuracy: 0.9931\n",
      "Epoch 8/12\n",
      "60000/60000 [==============================] - 174s 3ms/step - loss: 0.0194 - accuracy: 0.9936 - val_loss: 0.0216 - val_accuracy: 0.9934\n",
      "Epoch 9/12\n",
      "60000/60000 [==============================] - 176s 3ms/step - loss: 0.0198 - accuracy: 0.9936 - val_loss: 0.0221 - val_accuracy: 0.9936\n",
      "Epoch 10/12\n",
      "60000/60000 [==============================] - 186s 3ms/step - loss: 0.0175 - accuracy: 0.9945 - val_loss: 0.0229 - val_accuracy: 0.9928\n",
      "Epoch 11/12\n",
      "60000/60000 [==============================] - 177s 3ms/step - loss: 0.0157 - accuracy: 0.9948 - val_loss: 0.0208 - val_accuracy: 0.9928\n",
      "Epoch 12/12\n",
      "60000/60000 [==============================] - 175s 3ms/step - loss: 0.0138 - accuracy: 0.9953 - val_loss: 0.0239 - val_accuracy: 0.9920\n"
     ]
    }
   ],
   "source": [
    "model.compile(loss='categorical_crossentropy',\n",
    "             optimizer='adam',metrics=['accuracy'])\n",
    "hist=model.fit(x_train,y_train,\n",
    "              batch_size=batch_size,\n",
    "              epochs=epochs,\n",
    "              verbose=1,\n",
    "              validation_data=(x_test,y_test))"
   ]
  },
  {
   "cell_type": "code",
   "execution_count": 16,
   "metadata": {},
   "outputs": [
    {
     "name": "stdout",
     "output_type": "stream",
     "text": [
      "Test loss:  0.023919244562353652\n",
      "Test accuracy:  0.9919999837875366\n"
     ]
    },
    {
     "data": {
      "image/png": "[encoded data removed]",
      "text/plain": [
       "<Figure size 432x288 with 1 Axes>"
      ]
     },
     "metadata": {
      "needs_background": "light"
     },
     "output_type": "display_data"
    }
   ],
   "source": [
    "score = model.evaluate(x_test,y_test,verbose=0)\n",
    "print('Test loss: ', score[0])\n",
    "print('Test accuracy: ',score[1])\n",
    "\n",
    "import numpy as np\n",
    "y_vloss=hist.history['val_loss']\n",
    "y_loss=hist.history['loss']\n",
    "x_len=np.arange(len(y_loss))\n",
    "plt.plot(x_len,y_vloss,marker='.',c=\"red\",label='Testset_loss')\n",
    "plt.plot(x_len,y_loss,marker='.',c=\"red\",label='Testset_loss')\n",
    "plt.legend(loc='upper right')\n",
    "plt.grid()\n",
    "plt.xlabel('epoch')\n",
    "plt.ylabel('loss')\n",
    "plt.show()"
   ]
  },
  {
   "cell_type": "code",
   "execution_count": 18,
   "metadata": {},
   "outputs": [
    {
     "data": {
      "image/png": "[encoded data removed]",
      "text/plain": [
       "<Figure size 432x288 with 1 Axes>"
      ]
     },
     "metadata": {
      "needs_background": "light"
     },
     "output_type": "display_data"
    },
    {
     "name": "stdout",
     "output_type": "stream",
     "text": [
      "The Answer is  [7]\n"
     ]
    }
   ],
   "source": [
    "n=0\n",
    "plt.imshow(x_test[n].reshape(28,28),cmap='Greys',interpolation='nearest')\n",
    "plt.show()\n",
    "print('The Answer is ',model.predict_classes(x_test[n].reshape((1,28,28,1))))"
   ]
  },
  {
   "cell_type": "code",
   "execution_count": null,
   "metadata": {},
   "outputs": [],
   "source": []
  }
 ],
 "metadata": {
  "kernelspec": {
   "display_name": "Python 3",
   "language": "python",
   "name": "python3"
  },
  "language_info": {
   "codemirror_mode": {
    "name": "ipython",
    "version": 3
   },
   "file_extension": ".py",
   "mimetype": "text/x-python",
   "name": "python",
   "nbconvert_exporter": "python",
   "pygments_lexer": "ipython3",
   "version": "3.7.7"
  }
 },
 "nbformat": 4,
 "nbformat_minor": 4
}
