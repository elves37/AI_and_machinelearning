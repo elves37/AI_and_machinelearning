{
 "cells": [
  {
   "cell_type": "code",
   "execution_count": 5,
   "metadata": {},
   "outputs": [
    {
     "name": "stdout",
     "output_type": "stream",
     "text": [
      "첫번째 값을 입력하시오 : 123\n",
      "두번째 값을 입력하시오 : 456\n",
      "579\n",
      "-333\n",
      "56088\n",
      "0.26973684210526316\n",
      "0\n",
      "123\n"
     ]
    }
   ],
   "source": [
    "num1 = int(input(\"첫번째 값을 입력하시오 : \"))\n",
    "\n",
    "num2 = int(input(\"두번째 값을 입력하시오 : \"))\n",
    "\n",
    "print(num1 + num2)\n",
    "\n",
    "print(num1 - num2)\n",
    "\n",
    "print(num1 * num2)\n",
    "\n",
    "print(num1 / num2)\n",
    "\n",
    "print(num1 // num2)\n",
    "\n",
    "print(num1 % num2)\n"
   ]
  }
 ],
 "metadata": {
  "kernelspec": {
   "display_name": "Python 3",
   "language": "python",
   "name": "python3"
  },
  "language_info": {
   "codemirror_mode": {
    "name": "ipython",
    "version": 3
   },
   "file_extension": ".py",
   "mimetype": "text/x-python",
   "name": "python",
   "nbconvert_exporter": "python",
   "pygments_lexer": "ipython3",
   "version": "3.7.6"
  }
 },
 "nbformat": 4,
 "nbformat_minor": 4
}
