{
 "cells": [
  {
   "cell_type": "code",
   "execution_count": 1,
   "metadata": {},
   "outputs": [
    {
     "name": "stdout",
     "output_type": "stream",
     "text": [
      "번호 : 2\n",
      "국어 점수 : 50\n",
      "영어 점수 : 60\n",
      "수학 점수 : 70\n",
      "물리 점수 : 80\n",
      "==================================================\n",
      " 번호  국어  영어  수학  물리  총점  평균  학점\n",
      "==================================================\n",
      "  2    50    60    70    80    260   65.0   D\n"
     ]
    }
   ],
   "source": [
    "seq = int(input(\"번호 : \"))\n",
    "ko = int(input(\"국어 점수 : \"))\n",
    "en = int(input(\"영어 점수 : \"))\n",
    "math = int(input(\"수학 점수 : \"))\n",
    "pys = int(input(\"물리 점수 : \"))\n",
    "\n",
    "total = ko + en + math + pys\n",
    "avg = total / 4\n",
    "\n",
    "print('==================================================')\n",
    "print(' 번호  국어  영어  수학  물리  총점  평균  학점')\n",
    "print('==================================================')\n",
    "print('  %d    %d    %d    %d    %d    %d   %.1f' % (seq, ko, en, math, pys, total, avg), end='   ')\n",
    "\n",
    "if avg >= 90 :\n",
    "    print('A')\n",
    "\n",
    "elif avg >= 80 :\n",
    "    print('B')\n",
    "\n",
    "elif avg >= 70 :\n",
    "    print('C')\n",
    "    \n",
    "elif avg >= 60 :\n",
    "    print('D')\n",
    "    \n",
    "else :\n",
    "    print('F')"
   ]
  },
  {
   "cell_type": "code",
   "execution_count": null,
   "metadata": {},
   "outputs": [],
   "source": []
  }
 ],
 "metadata": {
  "kernelspec": {
   "display_name": "Python 3",
   "language": "python",
   "name": "python3"
  },
  "language_info": {
   "codemirror_mode": {
    "name": "ipython",
    "version": 3
   },
   "file_extension": ".py",
   "mimetype": "text/x-python",
   "name": "python",
   "nbconvert_exporter": "python",
   "pygments_lexer": "ipython3",
   "version": "3.7.6"
  }
 },
 "nbformat": 4,
 "nbformat_minor": 4
}
