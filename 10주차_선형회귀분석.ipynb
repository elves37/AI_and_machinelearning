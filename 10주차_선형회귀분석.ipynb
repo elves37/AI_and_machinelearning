{
 "cells": [
  {
   "cell_type": "code",
   "execution_count": 33,
   "metadata": {},
   "outputs": [
    {
     "name": "stdout",
     "output_type": "stream",
     "text": [
      "[67.30998637]\n"
     ]
    },
    {
     "data": {
      "image/png": "[encoded data removed]",
      "text/plain": [
       "<Figure size 432x288 with 1 Axes>"
      ]
     },
     "metadata": {
      "needs_background": "light"
     },
     "output_type": "display_data"
    }
   ],
   "source": [
    "import matplotlib.pylab as plt\n",
    "from sklearn import linear_model as lm\n",
    "\n",
    "reg = lm.LinearRegression()\n",
    "\n",
    "X = [[174],[152],[138],[128],[186]]\n",
    "y = [71,55,46,38,88]\n",
    "reg.fit(X,y)\n",
    "\n",
    "print(reg.predict([[165]]))\n",
    "\n",
    "plt.scatter(X,y,color='black')\n",
    "\n",
    "y_pred = reg.predict(X)\n",
    "\n",
    "plt.plot(X, y_pred,color='blue',linewidth=3)\n",
    "\n",
    "plt.scatter(165, reg.predict([[165]]), color='red')\n",
    "\n",
    "plt.hlines(y=reg.predict([[165]]),xmin=120,xmax=165, color='red',linestyle=':')\n",
    "plt.vlines(x=165,ymin=30,ymax=reg.predict([[165]]), color='y',linestyle=':')\n",
    "\n",
    "plt.xlim(125,189)\n",
    "plt.ylim(34,91)\n",
    "\n",
    "plt.show()"
   ]
  },
  {
   "cell_type": "code",
   "execution_count": null,
   "metadata": {},
   "outputs": [],
   "source": []
  }
 ],
 "metadata": {
  "kernelspec": {
   "display_name": "Python 3",
   "language": "python",
   "name": "python3"
  },
  "language_info": {
   "codemirror_mode": {
    "name": "ipython",
    "version": 3
   },
   "file_extension": ".py",
   "mimetype": "text/x-python",
   "name": "python",
   "nbconvert_exporter": "python",
   "pygments_lexer": "ipython3",
   "version": "3.7.6"
  }
 },
 "nbformat": 4,
 "nbformat_minor": 4
}
