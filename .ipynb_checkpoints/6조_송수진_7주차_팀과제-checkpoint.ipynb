{
 "cells": [
  {
   "cell_type": "code",
   "execution_count": 4,
   "metadata": {},
   "outputs": [
    {
     "name": "stdout",
     "output_type": "stream",
     "text": [
      "프로그램을 종료하려면 학번에 '0'을 입력하시오\n",
      "학번을 입력하시오: 2015039102\n",
      "이름을 입력하시오: 이호진\n",
      "국어점수를 입력하시오: 50\n",
      "영어점수를 입력하시오: 50\n",
      "수학점수를 입력하시오: 50\n",
      "학번을 입력하시오: 50\n",
      "이름을 입력하시오: 강택수\n",
      "국어점수를 입력하시오: 50\n",
      "영어점수를 입력하시오: 50\n",
      "수학점수를 입력하시오: 50\n",
      "학번을 입력하시오: 2015039080\n",
      "이름을 입력하시오: 송상호\n",
      "국어점수를 입력하시오: 50\n",
      "영어점수를 입력하시오: 50\n",
      "수학점수를 입력하시오: 50\n",
      "학번을 입력하시오: 0\n",
      "======================================================================\n",
      "  학번\t\t이름\t국어\t영어\t수학\t총점\t평균\t학점\n",
      "======================================================================\n",
      "2015039102\t  이호진\t 50\t\t 50\t\t 50\t\t150\t\t50.00\t\tF\n",
      " 50\t  강택수\t 50\t\t 50\t\t 50\t\t150\t\t50.00\t\tF\n",
      "2015039080\t  송상호\t 50\t\t 50\t\t 50\t\t150\t\t50.00\t\tF\n"
     ]
    }
   ],
   "source": [
    "class Record:\n",
    "    def readList(self):\n",
    "        self.hakbunlist = []\n",
    "        self.namelist = []\n",
    "        self.korlist = []\n",
    "        self.englist = []\n",
    "        self.mathlist = []\n",
    "        flag = True\n",
    "        print(\"프로그램을 종료하려면 학번에 '0'을 입력하시오\")\n",
    "        while flag:\n",
    "            hakbun = input(\"학번을 입력하시오: \")\n",
    "            if hakbun == '0':\n",
    "                flag = False\n",
    "            else :\n",
    "                name = input(\"이름을 입력하시오: \")\n",
    "                kor = int(input(\"국어점수를 입력하시오: \"))\n",
    "                eng = int(input(\"영어점수를 입력하시오: \"))\n",
    "                math = int(input(\"수학점수를 입력하시오: \"))\n",
    "                \n",
    "                self.hakbunlist.append(hakbun)\n",
    "                self.namelist.append(name)\n",
    "                self.korlist.append(kor)\n",
    "                self.englist.append(eng)\n",
    "                self.mathlist.append(math)\n",
    "                \n",
    "        #return hackbunlist, namelist, korlist, englist, mathlist\n",
    "    \n",
    "    def calList(self):\n",
    "        self.totlist = []\n",
    "        self.avglist = []\n",
    "        self.haksjumlist = []\n",
    "        total = 0\n",
    "        avg = 0.0\n",
    "        for i in range(len(self.korlist)):\n",
    "            total = self.korlist[i] + self.englist[i] + self.mathlist[i]\n",
    "            avg = total / 3.0\n",
    "            self.totlist.append(total)\n",
    "            self.avglist.append(avg)\n",
    "            \n",
    "            if avg >= 90:\n",
    "                grade = 'A'\n",
    "            elif avg >= 80:\n",
    "                grade = 'B'\n",
    "            elif avg >= 70:\n",
    "                grade = 'C'\n",
    "            elif avg >= 60:\n",
    "                grade = 'D'\n",
    "            else:\n",
    "                grade = 'F'\n",
    "            self.haksjumlist.append(grade)\n",
    "            \n",
    "        #return totlist, avglist, haksjumlist\n",
    "    \n",
    "    def printList(self):\n",
    "        print(\"=\" * 140)\n",
    "        print(\"  학번\\t\\t이름\\t국어\\t영어\\t수학\\t총점\\t평균\\t학점\")\n",
    "        print(\"=\" * 140)\n",
    "        for i in range(len(self.hakbunlist)):\n",
    "            print(\"%3s\\t%5s\\t%3d\\t\\t%3d\\t\\t%3d\\t\\t%3d\\t\\t%.2f\\t\\t%s\"%(self.hakbunlist[i],self.namelist[i], self.korlist[i], \n",
    "                                                                      self.englist[i], self.mathlist[i], self.totlist[i], self.avglist[i], \n",
    "                                                                      self.haksjumlist[i]))\n",
    "\n",
    "myRecord = Record()\n",
    "myRecord.readList()\n",
    "myRecord.calList()\n",
    "myRecord.printList()"
   ]
  },
  {
   "cell_type": "code",
   "execution_count": null,
   "metadata": {},
   "outputs": [],
   "source": [
    "\n"
   ]
  },
  {
   "cell_type": "code",
   "execution_count": null,
   "metadata": {},
   "outputs": [],
   "source": []
  }
 ],
 "metadata": {
  "kernelspec": {
   "display_name": "Python 3",
   "language": "python",
   "name": "python3"
  },
  "language_info": {
   "codemirror_mode": {
    "name": "ipython",
    "version": 3
   },
   "file_extension": ".py",
   "mimetype": "text/x-python",
   "name": "python",
   "nbconvert_exporter": "python",
   "pygments_lexer": "ipython3",
   "version": "3.7.6"
  }
 },
 "nbformat": 4,
 "nbformat_minor": 4
}
