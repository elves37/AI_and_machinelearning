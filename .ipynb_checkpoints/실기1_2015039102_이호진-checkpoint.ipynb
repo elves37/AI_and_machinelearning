{
 "cells": [
  {
   "cell_type": "code",
   "execution_count": 21,
   "metadata": {},
   "outputs": [
    {
     "name": "stdout",
     "output_type": "stream",
     "text": [
      "첫 번째 정수 : 52\n",
      "두 번째 정수 : 89\n",
      "연산자 : +\n",
      "52 + 89 = 141\n"
     ]
    }
   ],
   "source": [
    "num1 = int(input(\"첫 번째 정수 : \"))\n",
    "num2 = int(input(\"두 번째 정수 : \"))\n",
    "op1 = input(\"연산자 : \")\n",
    "\n",
    "if op1 == \"/\" :\n",
    "    ans = num1 / num2\n",
    "    print(\"%d %s %d = %f\" % (num1, op1, num2, ans))\n",
    "\n",
    "else :\n",
    "    if op1 == \"+\" :\n",
    "        ans = num1 + num2\n",
    "\n",
    "    elif op1 == \"-\" :\n",
    "        ans = num1 - num2\n",
    "\n",
    "    elif op1 == \"*\" :\n",
    "        ans = num1 * num2\n",
    "\n",
    "    elif op1 == \"%\" :\n",
    "        ans = num1 % num2\n",
    "\n",
    "    else :\n",
    "        ans = num1 // num2\n",
    "    \n",
    "    print(\"%d %s %d = %d\" % (num1, op1, num2, ans))"
   ]
  },
  {
   "cell_type": "code",
   "execution_count": null,
   "metadata": {},
   "outputs": [],
   "source": []
  }
 ],
 "metadata": {
  "kernelspec": {
   "display_name": "Python 3",
   "language": "python",
   "name": "python3"
  },
  "language_info": {
   "codemirror_mode": {
    "name": "ipython",
    "version": 3
   },
   "file_extension": ".py",
   "mimetype": "text/x-python",
   "name": "python",
   "nbconvert_exporter": "python",
   "pygments_lexer": "ipython3",
   "version": "3.7.6"
  }
 },
 "nbformat": 4,
 "nbformat_minor": 4
}
